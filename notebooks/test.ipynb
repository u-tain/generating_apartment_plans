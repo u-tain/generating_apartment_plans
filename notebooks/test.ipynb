{
 "cells": [
  {
   "cell_type": "code",
   "execution_count": null,
   "id": "61edf232",
   "metadata": {},
   "outputs": [],
   "source": [
    "import os\n",
    "import sys\n",
    "rep_path = os.path.join(r'C:\\Users','tanik','code','generating_apartment_plans')\n",
    "sys.path.append(rep_path)"
   ]
  },
  {
   "cell_type": "code",
   "execution_count": null,
   "id": "bb3cdac4",
   "metadata": {},
   "outputs": [],
   "source": [
    "FLAT_DATA_PATH=os.path.join(rep_path,'data')\n",
    "numflat=209\n",
    "FLAT = f'flat_{numflat}'\n",
    "ROOM='3' \n",
    "os.path.join(FLAT_DATA_PATH,FLAT,'by_rooms',ROOM,'depth')\n",
    "# from src.steps.key_points_step.step_pipeline import Key_Points_step\n",
    "# from src.steps.depth_step.step_pipeline import Depth_Map_step\n",
    "# from src.steps.segmentation_step.step_pipeline import Segment_step\n",
    "# from src.steps.get_separeted_walls.step_pipeline import Get_Separeted_walls_step\n",
    "from src.steps.make_3d_plan_step.step_pipeline import Make_3d_Plan_step\n",
    "from src.steps.make_2d_plan_step.step_pipeline import Make_2d_Plan_step\n",
    "from src.steps.add_door_window_step.step_pipeline import Add_door_window_step\n",
    "\n",
    "# from src.pipeline import Pipeline"
   ]
  },
  {
   "cell_type": "code",
   "execution_count": null,
   "id": "b1476fea",
   "metadata": {},
   "outputs": [],
   "source": [
    "%matplotlib inline\n",
    "# Key_Points_step(os.path.join(FLAT_DATA_PATH,FLAT), ROOM).run()\n",
    "# Depth_Map_step(os.path.join(FLAT_DATA_PATH,FLAT), ROOM).run()\n",
    "# Segment_step(os.path.join(FLAT_DATA_PATH,FLAT), ROOM).run()\n",
    "# Get_Separeted_walls_step(os.path.join(FLAT_DATA_PATH,FLAT), ROOM).run(True)\n",
    "# results = Make_3d_Plan_step(os.path.join(FLAT_DATA_PATH,FLAT), ROOM).run()\n",
    "# results = Make_2d_Plan_step(os.path.join(FLAT_DATA_PATH,FLAT), ROOM,results).run()\n",
    "# Add_door_window_step(os.path.join(FLAT_DATA_PATH,FLAT), ROOM,results).run(True)"
   ]
  },
  {
   "cell_type": "code",
   "execution_count": null,
   "id": "f2ed1b73",
   "metadata": {},
   "outputs": [],
   "source": [
    "from src.steps.union_plan_step.step_pipeline import Union_step\n",
    "rep_path = os.path.join(r'C:\\Users','tanik','code','generating_apartment_plans')\n",
    "sys.path.append(rep_path)\n",
    "FLAT_DATA_PATH=os.path.join(rep_path,'data')\n",
    "numflat=209\n",
    "FLAT = f'flat_{numflat}'\n",
    "\n",
    "flat_path =os.path.join(FLAT_DATA_PATH,FLAT)\n",
    "# flat_path = '/path/to/flat'  # Замените на путь к вашей папке с планами\n",
    "union_step = Union_step(flat_path)\n",
    "union_step.run(viz=True)  # Запустите шаг объединения с визуализацией"
   ]
  }
 ],
 "metadata": {
  "kernelspec": {
   "display_name": "Python 3",
   "language": "python",
   "name": "python3"
  },
  "language_info": {
   "codemirror_mode": {
    "name": "ipython",
    "version": 3
   },
   "file_extension": ".py",
   "mimetype": "text/x-python",
   "name": "python",
   "nbconvert_exporter": "python",
   "pygments_lexer": "ipython3",
   "version": "3.11.9"
  }
 },
 "nbformat": 4,
 "nbformat_minor": 5
}
